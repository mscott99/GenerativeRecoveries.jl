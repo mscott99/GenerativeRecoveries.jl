{
 "cells": [
  {
   "cell_type": "code",
   "execution_count": 4,
   "metadata": {},
   "outputs": [],
   "source": [
    "using Flux\n",
    "using BSON: @load\n",
    "using Revise\n",
    "using FFTW: plan_dct\n",
    "using GenerativeRecoveries\n",
    "using GenerativeRecoveries: get_recovery_errors_tocompare_frequencysamplingalgorithms, wrap_model_withreshape, plot_recovery_errors_tocompare_frequencysamplingalgorithms, _setupMNISTimagesignals, samplefrequenciesuniformly, samplefrequenciesuniformlyanddeterministically, _setupmodel, IndexedMatrix, recoversignal, runexperimenttensor, _setupfrequencies, _plot_tables_ofrecoveries, plot_MNISTrecoveries, plot_MNISTrecoveryerrors\n",
    "@load \"../savedmodels/more_incoherentepoch20\" model\n",
    "model = wrap_model_withreshape(model)\n",
    "using DataFrames\n",
    "using DataFrames: allcombinations, DataFrame, transform!\n",
    "using LinearAlgebra: norm\n",
    "using Statistics\n",
    "using AlgebraOfGraphics, CairoMakie\n",
    "using CairoMakie"
   ]
  },
  {
   "cell_type": "code",
   "execution_count": 13,
   "metadata": {},
   "outputs": [],
   "source": [
    "presigmoid = true\n",
    "inrange = true\n",
    "datasplit = :test\n",
    "kwargs = (;)\n",
    "img_size = (28, 28)\n",
    "images = [0,8,9]\n",
    "aimed_ms = [8, 16, 24,32,50,64,100,128,256, 784]\n",
    "aimed_ms = [8,10,16,24,32,64, 128,784]\n",
    "set_aog_theme!()"
   ]
  },
  {
   "cell_type": "code",
   "execution_count": 14,
   "metadata": {},
   "outputs": [
    {
     "data": {
      "text/plain": [
       "3-element Vector{Matrix{Float32}}:\n",
       " [-7.469619 -8.210722 … -6.887391 -6.9714537; -8.185194 -8.266231 … -6.0869474 -6.5387964; … ; -7.3637094 -7.4615426 … -7.2899294 -6.6202765; -8.471201 -8.386674 … -6.8756485 -7.1914954]\n",
       " [-12.102797 -10.683401 … -10.619436 -9.775031; -9.532698 -8.710725 … -10.3775425 -11.252632; … ; -10.273352 -8.648103 … -11.889959 -11.2867775; -10.695029 -9.536697 … -10.058863 -11.508093]\n",
       " [-7.3899217 -8.357929 … -6.8418264 -7.179199; -7.94391 -7.7998304 … -8.036548 -9.812468; … ; -8.386164 -6.5711365 … -8.841705 -8.660866; -6.769309 -7.662223 … -8.889787 -10.571924]"
      ]
     },
     "metadata": {},
     "output_type": "display_data"
    }
   ],
   "source": [
    "model = _setupmodel(model; presigmoid)\n",
    "decoder = model.decoder\n",
    "truesignals = _setupMNISTimagesignals(images, model; presigmoid, inrange, datasplit, kwargs...)"
   ]
  },
  {
   "cell_type": "code",
   "execution_count": 17,
   "metadata": {},
   "outputs": [
    {
     "data": {
      "text/html": [
       "<div><div style = \"float: left;\"><span>48×4 DataFrame</span></div><div style = \"float: right;\"><span style = \"font-style: italic;\">23 rows omitted</span></div><div style = \"clear: both;\"></div></div><div class = \"data-frame\" style = \"overflow-x: scroll;\"><table class = \"data-frame\" style = \"margin-bottom: 6px;\"><thead><tr class = \"header\"><th class = \"rowNumber\" style = \"font-weight: bold; text-align: right;\">Row</th><th style = \"text-align: left;\">truesignal</th><th style = \"text-align: left;\">numfrequencies</th><th style = \"text-align: left;\">recoveryalg</th><th style = \"text-align: left;\">sampledfrequencies</th></tr><tr class = \"subheader headerLastRow\"><th class = \"rowNumber\" style = \"font-weight: bold; text-align: right;\"></th><th title = \"Matrix{Float32}\" style = \"text-align: left;\">Array…</th><th title = \"Int64\" style = \"text-align: left;\">Int64</th><th title = \"Symbol\" style = \"text-align: left;\">Symbol</th><th title = \"Matrix{Bool}\" style = \"text-align: left;\">Array…</th></tr></thead><tbody><tr><td class = \"rowNumber\" style = \"font-weight: bold; text-align: right;\">1</td><td style = \"text-align: left;\">Float32[-7.46962 -8.21072 … -6.88739 -6.97145; -8.18519 -8.26623 … -6.08695 -6.5388; … ; -7.36371 -7.46154 … -7.28993 -6.62028; -8.4712 -8.38667 … -6.87565 -7.1915]</td><td style = \"text-align: right;\">8</td><td style = \"text-align: left;\">recoversignal</td><td style = \"text-align: left;\">Bool[0 0 … 0 0; 0 0 … 1 0; … ; 0 0 … 0 0; 1 0 … 0 0]</td></tr><tr><td class = \"rowNumber\" style = \"font-weight: bold; text-align: right;\">2</td><td style = \"text-align: left;\">Float32[-12.1028 -10.6834 … -10.6194 -9.77503; -9.5327 -8.71072 … -10.3775 -11.2526; … ; -10.2734 -8.6481 … -11.89 -11.2868; -10.695 -9.5367 … -10.0589 -11.5081]</td><td style = \"text-align: right;\">8</td><td style = \"text-align: left;\">recoversignal</td><td style = \"text-align: left;\">Bool[0 0 … 0 0; 0 0 … 0 0; … ; 0 0 … 0 0; 0 0 … 0 0]</td></tr><tr><td class = \"rowNumber\" style = \"font-weight: bold; text-align: right;\">3</td><td style = \"text-align: left;\">Float32[-7.38992 -8.35793 … -6.84183 -7.1792; -7.94391 -7.79983 … -8.03655 -9.81247; … ; -8.38616 -6.57114 … -8.84171 -8.66087; -6.76931 -7.66222 … -8.88979 -10.5719]</td><td style = \"text-align: right;\">8</td><td style = \"text-align: left;\">recoversignal</td><td style = \"text-align: left;\">Bool[0 0 … 0 0; 0 0 … 0 0; … ; 0 0 … 0 0; 0 0 … 0 0]</td></tr><tr><td class = \"rowNumber\" style = \"font-weight: bold; text-align: right;\">4</td><td style = \"text-align: left;\">Float32[-7.46962 -8.21072 … -6.88739 -6.97145; -8.18519 -8.26623 … -6.08695 -6.5388; … ; -7.36371 -7.46154 … -7.28993 -6.62028; -8.4712 -8.38667 … -6.87565 -7.1915]</td><td style = \"text-align: right;\">10</td><td style = \"text-align: left;\">recoversignal</td><td style = \"text-align: left;\">Bool[0 0 … 0 0; 0 0 … 0 0; … ; 0 0 … 0 0; 0 0 … 0 0]</td></tr><tr><td class = \"rowNumber\" style = \"font-weight: bold; text-align: right;\">5</td><td style = \"text-align: left;\">Float32[-12.1028 -10.6834 … -10.6194 -9.77503; -9.5327 -8.71072 … -10.3775 -11.2526; … ; -10.2734 -8.6481 … -11.89 -11.2868; -10.695 -9.5367 … -10.0589 -11.5081]</td><td style = \"text-align: right;\">10</td><td style = \"text-align: left;\">recoversignal</td><td style = \"text-align: left;\">Bool[0 0 … 0 0; 0 0 … 0 0; … ; 0 0 … 0 0; 0 0 … 0 0]</td></tr><tr><td class = \"rowNumber\" style = \"font-weight: bold; text-align: right;\">6</td><td style = \"text-align: left;\">Float32[-7.38992 -8.35793 … -6.84183 -7.1792; -7.94391 -7.79983 … -8.03655 -9.81247; … ; -8.38616 -6.57114 … -8.84171 -8.66087; -6.76931 -7.66222 … -8.88979 -10.5719]</td><td style = \"text-align: right;\">10</td><td style = \"text-align: left;\">recoversignal</td><td style = \"text-align: left;\">Bool[0 0 … 0 0; 0 0 … 0 0; … ; 0 0 … 0 0; 0 0 … 0 0]</td></tr><tr><td class = \"rowNumber\" style = \"font-weight: bold; text-align: right;\">7</td><td style = \"text-align: left;\">Float32[-7.46962 -8.21072 … -6.88739 -6.97145; -8.18519 -8.26623 … -6.08695 -6.5388; … ; -7.36371 -7.46154 … -7.28993 -6.62028; -8.4712 -8.38667 … -6.87565 -7.1915]</td><td style = \"text-align: right;\">16</td><td style = \"text-align: left;\">recoversignal</td><td style = \"text-align: left;\">Bool[0 0 … 0 0; 0 0 … 0 0; … ; 0 0 … 0 0; 0 0 … 0 0]</td></tr><tr><td class = \"rowNumber\" style = \"font-weight: bold; text-align: right;\">8</td><td style = \"text-align: left;\">Float32[-12.1028 -10.6834 … -10.6194 -9.77503; -9.5327 -8.71072 … -10.3775 -11.2526; … ; -10.2734 -8.6481 … -11.89 -11.2868; -10.695 -9.5367 … -10.0589 -11.5081]</td><td style = \"text-align: right;\">16</td><td style = \"text-align: left;\">recoversignal</td><td style = \"text-align: left;\">Bool[0 0 … 0 0; 0 0 … 0 0; … ; 0 0 … 0 0; 0 0 … 0 0]</td></tr><tr><td class = \"rowNumber\" style = \"font-weight: bold; text-align: right;\">9</td><td style = \"text-align: left;\">Float32[-7.38992 -8.35793 … -6.84183 -7.1792; -7.94391 -7.79983 … -8.03655 -9.81247; … ; -8.38616 -6.57114 … -8.84171 -8.66087; -6.76931 -7.66222 … -8.88979 -10.5719]</td><td style = \"text-align: right;\">16</td><td style = \"text-align: left;\">recoversignal</td><td style = \"text-align: left;\">Bool[0 0 … 0 0; 0 0 … 0 0; … ; 0 0 … 0 0; 0 0 … 0 0]</td></tr><tr><td class = \"rowNumber\" style = \"font-weight: bold; text-align: right;\">10</td><td style = \"text-align: left;\">Float32[-7.46962 -8.21072 … -6.88739 -6.97145; -8.18519 -8.26623 … -6.08695 -6.5388; … ; -7.36371 -7.46154 … -7.28993 -6.62028; -8.4712 -8.38667 … -6.87565 -7.1915]</td><td style = \"text-align: right;\">24</td><td style = \"text-align: left;\">recoversignal</td><td style = \"text-align: left;\">Bool[0 0 … 0 0; 0 0 … 0 0; … ; 0 0 … 0 0; 0 0 … 0 0]</td></tr><tr><td class = \"rowNumber\" style = \"font-weight: bold; text-align: right;\">11</td><td style = \"text-align: left;\">Float32[-12.1028 -10.6834 … -10.6194 -9.77503; -9.5327 -8.71072 … -10.3775 -11.2526; … ; -10.2734 -8.6481 … -11.89 -11.2868; -10.695 -9.5367 … -10.0589 -11.5081]</td><td style = \"text-align: right;\">24</td><td style = \"text-align: left;\">recoversignal</td><td style = \"text-align: left;\">Bool[0 0 … 0 0; 0 0 … 0 0; … ; 0 0 … 0 0; 0 0 … 0 0]</td></tr><tr><td class = \"rowNumber\" style = \"font-weight: bold; text-align: right;\">12</td><td style = \"text-align: left;\">Float32[-7.38992 -8.35793 … -6.84183 -7.1792; -7.94391 -7.79983 … -8.03655 -9.81247; … ; -8.38616 -6.57114 … -8.84171 -8.66087; -6.76931 -7.66222 … -8.88979 -10.5719]</td><td style = \"text-align: right;\">24</td><td style = \"text-align: left;\">recoversignal</td><td style = \"text-align: left;\">Bool[0 0 … 0 0; 0 0 … 0 0; … ; 0 0 … 1 0; 0 0 … 0 0]</td></tr><tr><td class = \"rowNumber\" style = \"font-weight: bold; text-align: right;\">13</td><td style = \"text-align: left;\">Float32[-7.46962 -8.21072 … -6.88739 -6.97145; -8.18519 -8.26623 … -6.08695 -6.5388; … ; -7.36371 -7.46154 … -7.28993 -6.62028; -8.4712 -8.38667 … -6.87565 -7.1915]</td><td style = \"text-align: right;\">32</td><td style = \"text-align: left;\">recoversignal</td><td style = \"text-align: left;\">Bool[0 1 … 0 0; 0 0 … 0 0; … ; 0 0 … 0 0; 0 0 … 0 1]</td></tr><tr><td style = \"text-align: right;\">&vellip;</td><td style = \"text-align: right;\">&vellip;</td><td style = \"text-align: right;\">&vellip;</td><td style = \"text-align: right;\">&vellip;</td><td style = \"text-align: right;\">&vellip;</td></tr><tr><td class = \"rowNumber\" style = \"font-weight: bold; text-align: right;\">37</td><td style = \"text-align: left;\">Float32[-7.46962 -8.21072 … -6.88739 -6.97145; -8.18519 -8.26623 … -6.08695 -6.5388; … ; -7.36371 -7.46154 … -7.28993 -6.62028; -8.4712 -8.38667 … -6.87565 -7.1915]</td><td style = \"text-align: right;\">32</td><td style = \"text-align: left;\">relaxed_recover</td><td style = \"text-align: left;\">Bool[0 0 … 0 0; 0 1 … 0 0; … ; 0 0 … 0 0; 0 0 … 0 0]</td></tr><tr><td class = \"rowNumber\" style = \"font-weight: bold; text-align: right;\">38</td><td style = \"text-align: left;\">Float32[-12.1028 -10.6834 … -10.6194 -9.77503; -9.5327 -8.71072 … -10.3775 -11.2526; … ; -10.2734 -8.6481 … -11.89 -11.2868; -10.695 -9.5367 … -10.0589 -11.5081]</td><td style = \"text-align: right;\">32</td><td style = \"text-align: left;\">relaxed_recover</td><td style = \"text-align: left;\">Bool[0 0 … 0 0; 0 0 … 0 0; … ; 0 0 … 0 0; 0 0 … 0 0]</td></tr><tr><td class = \"rowNumber\" style = \"font-weight: bold; text-align: right;\">39</td><td style = \"text-align: left;\">Float32[-7.38992 -8.35793 … -6.84183 -7.1792; -7.94391 -7.79983 … -8.03655 -9.81247; … ; -8.38616 -6.57114 … -8.84171 -8.66087; -6.76931 -7.66222 … -8.88979 -10.5719]</td><td style = \"text-align: right;\">32</td><td style = \"text-align: left;\">relaxed_recover</td><td style = \"text-align: left;\">Bool[0 0 … 0 0; 0 0 … 0 0; … ; 0 0 … 0 0; 0 0 … 0 0]</td></tr><tr><td class = \"rowNumber\" style = \"font-weight: bold; text-align: right;\">40</td><td style = \"text-align: left;\">Float32[-7.46962 -8.21072 … -6.88739 -6.97145; -8.18519 -8.26623 … -6.08695 -6.5388; … ; -7.36371 -7.46154 … -7.28993 -6.62028; -8.4712 -8.38667 … -6.87565 -7.1915]</td><td style = \"text-align: right;\">64</td><td style = \"text-align: left;\">relaxed_recover</td><td style = \"text-align: left;\">Bool[0 0 … 0 0; 1 1 … 0 0; … ; 0 1 … 0 0; 0 0 … 0 1]</td></tr><tr><td class = \"rowNumber\" style = \"font-weight: bold; text-align: right;\">41</td><td style = \"text-align: left;\">Float32[-12.1028 -10.6834 … -10.6194 -9.77503; -9.5327 -8.71072 … -10.3775 -11.2526; … ; -10.2734 -8.6481 … -11.89 -11.2868; -10.695 -9.5367 … -10.0589 -11.5081]</td><td style = \"text-align: right;\">64</td><td style = \"text-align: left;\">relaxed_recover</td><td style = \"text-align: left;\">Bool[0 0 … 1 0; 0 0 … 1 0; … ; 0 0 … 0 0; 0 0 … 0 0]</td></tr><tr><td class = \"rowNumber\" style = \"font-weight: bold; text-align: right;\">42</td><td style = \"text-align: left;\">Float32[-7.38992 -8.35793 … -6.84183 -7.1792; -7.94391 -7.79983 … -8.03655 -9.81247; … ; -8.38616 -6.57114 … -8.84171 -8.66087; -6.76931 -7.66222 … -8.88979 -10.5719]</td><td style = \"text-align: right;\">64</td><td style = \"text-align: left;\">relaxed_recover</td><td style = \"text-align: left;\">Bool[0 0 … 0 1; 0 0 … 0 0; … ; 0 0 … 0 0; 0 0 … 0 0]</td></tr><tr><td class = \"rowNumber\" style = \"font-weight: bold; text-align: right;\">43</td><td style = \"text-align: left;\">Float32[-7.46962 -8.21072 … -6.88739 -6.97145; -8.18519 -8.26623 … -6.08695 -6.5388; … ; -7.36371 -7.46154 … -7.28993 -6.62028; -8.4712 -8.38667 … -6.87565 -7.1915]</td><td style = \"text-align: right;\">128</td><td style = \"text-align: left;\">relaxed_recover</td><td style = \"text-align: left;\">Bool[0 0 … 0 0; 0 0 … 0 0; … ; 0 0 … 0 0; 0 0 … 0 0]</td></tr><tr><td class = \"rowNumber\" style = \"font-weight: bold; text-align: right;\">44</td><td style = \"text-align: left;\">Float32[-12.1028 -10.6834 … -10.6194 -9.77503; -9.5327 -8.71072 … -10.3775 -11.2526; … ; -10.2734 -8.6481 … -11.89 -11.2868; -10.695 -9.5367 … -10.0589 -11.5081]</td><td style = \"text-align: right;\">128</td><td style = \"text-align: left;\">relaxed_recover</td><td style = \"text-align: left;\">Bool[0 0 … 1 1; 0 0 … 0 0; … ; 0 0 … 0 0; 0 0 … 0 0]</td></tr><tr><td class = \"rowNumber\" style = \"font-weight: bold; text-align: right;\">45</td><td style = \"text-align: left;\">Float32[-7.38992 -8.35793 … -6.84183 -7.1792; -7.94391 -7.79983 … -8.03655 -9.81247; … ; -8.38616 -6.57114 … -8.84171 -8.66087; -6.76931 -7.66222 … -8.88979 -10.5719]</td><td style = \"text-align: right;\">128</td><td style = \"text-align: left;\">relaxed_recover</td><td style = \"text-align: left;\">Bool[0 1 … 0 0; 1 0 … 0 0; … ; 0 0 … 0 0; 0 1 … 0 0]</td></tr><tr><td class = \"rowNumber\" style = \"font-weight: bold; text-align: right;\">46</td><td style = \"text-align: left;\">Float32[-7.46962 -8.21072 … -6.88739 -6.97145; -8.18519 -8.26623 … -6.08695 -6.5388; … ; -7.36371 -7.46154 … -7.28993 -6.62028; -8.4712 -8.38667 … -6.87565 -7.1915]</td><td style = \"text-align: right;\">784</td><td style = \"text-align: left;\">relaxed_recover</td><td style = \"text-align: left;\">Bool[1 1 … 1 1; 1 1 … 1 1; … ; 1 1 … 1 1; 1 1 … 1 1]</td></tr><tr><td class = \"rowNumber\" style = \"font-weight: bold; text-align: right;\">47</td><td style = \"text-align: left;\">Float32[-12.1028 -10.6834 … -10.6194 -9.77503; -9.5327 -8.71072 … -10.3775 -11.2526; … ; -10.2734 -8.6481 … -11.89 -11.2868; -10.695 -9.5367 … -10.0589 -11.5081]</td><td style = \"text-align: right;\">784</td><td style = \"text-align: left;\">relaxed_recover</td><td style = \"text-align: left;\">Bool[1 1 … 1 1; 1 1 … 1 1; … ; 1 1 … 1 1; 1 1 … 1 1]</td></tr><tr><td class = \"rowNumber\" style = \"font-weight: bold; text-align: right;\">48</td><td style = \"text-align: left;\">Float32[-7.38992 -8.35793 … -6.84183 -7.1792; -7.94391 -7.79983 … -8.03655 -9.81247; … ; -8.38616 -6.57114 … -8.84171 -8.66087; -6.76931 -7.66222 … -8.88979 -10.5719]</td><td style = \"text-align: right;\">784</td><td style = \"text-align: left;\">relaxed_recover</td><td style = \"text-align: left;\">Bool[1 1 … 1 1; 1 1 … 1 1; … ; 1 1 … 1 1; 1 1 … 1 1]</td></tr></tbody></table></div>"
      ],
      "text/latex": [
       "\\begin{tabular}{r|cc}\n",
       "\t& truesignal & \\\\\n",
       "\t\\hline\n",
       "\t& Array… & \\\\\n",
       "\t\\hline\n",
       "\t1 & [-7.46962 -8.21072 … -6.88739 -6.97145; -8.18519 -8.26623 … -6.08695 -6.5388; … ; -7.36371 -7.46154 … -7.28993 -6.62028; -8.4712 -8.38667 … -6.87565 -7.1915] & $\\dots$ \\\\\n",
       "\t2 & [-12.1028 -10.6834 … -10.6194 -9.77503; -9.5327 -8.71072 … -10.3775 -11.2526; … ; -10.2734 -8.6481 … -11.89 -11.2868; -10.695 -9.5367 … -10.0589 -11.5081] & $\\dots$ \\\\\n",
       "\t3 & [-7.38992 -8.35793 … -6.84183 -7.1792; -7.94391 -7.79983 … -8.03655 -9.81247; … ; -8.38616 -6.57114 … -8.84171 -8.66087; -6.76931 -7.66222 … -8.88979 -10.5719] & $\\dots$ \\\\\n",
       "\t4 & [-7.46962 -8.21072 … -6.88739 -6.97145; -8.18519 -8.26623 … -6.08695 -6.5388; … ; -7.36371 -7.46154 … -7.28993 -6.62028; -8.4712 -8.38667 … -6.87565 -7.1915] & $\\dots$ \\\\\n",
       "\t5 & [-12.1028 -10.6834 … -10.6194 -9.77503; -9.5327 -8.71072 … -10.3775 -11.2526; … ; -10.2734 -8.6481 … -11.89 -11.2868; -10.695 -9.5367 … -10.0589 -11.5081] & $\\dots$ \\\\\n",
       "\t6 & [-7.38992 -8.35793 … -6.84183 -7.1792; -7.94391 -7.79983 … -8.03655 -9.81247; … ; -8.38616 -6.57114 … -8.84171 -8.66087; -6.76931 -7.66222 … -8.88979 -10.5719] & $\\dots$ \\\\\n",
       "\t7 & [-7.46962 -8.21072 … -6.88739 -6.97145; -8.18519 -8.26623 … -6.08695 -6.5388; … ; -7.36371 -7.46154 … -7.28993 -6.62028; -8.4712 -8.38667 … -6.87565 -7.1915] & $\\dots$ \\\\\n",
       "\t8 & [-12.1028 -10.6834 … -10.6194 -9.77503; -9.5327 -8.71072 … -10.3775 -11.2526; … ; -10.2734 -8.6481 … -11.89 -11.2868; -10.695 -9.5367 … -10.0589 -11.5081] & $\\dots$ \\\\\n",
       "\t9 & [-7.38992 -8.35793 … -6.84183 -7.1792; -7.94391 -7.79983 … -8.03655 -9.81247; … ; -8.38616 -6.57114 … -8.84171 -8.66087; -6.76931 -7.66222 … -8.88979 -10.5719] & $\\dots$ \\\\\n",
       "\t10 & [-7.46962 -8.21072 … -6.88739 -6.97145; -8.18519 -8.26623 … -6.08695 -6.5388; … ; -7.36371 -7.46154 … -7.28993 -6.62028; -8.4712 -8.38667 … -6.87565 -7.1915] & $\\dots$ \\\\\n",
       "\t11 & [-12.1028 -10.6834 … -10.6194 -9.77503; -9.5327 -8.71072 … -10.3775 -11.2526; … ; -10.2734 -8.6481 … -11.89 -11.2868; -10.695 -9.5367 … -10.0589 -11.5081] & $\\dots$ \\\\\n",
       "\t12 & [-7.38992 -8.35793 … -6.84183 -7.1792; -7.94391 -7.79983 … -8.03655 -9.81247; … ; -8.38616 -6.57114 … -8.84171 -8.66087; -6.76931 -7.66222 … -8.88979 -10.5719] & $\\dots$ \\\\\n",
       "\t13 & [-7.46962 -8.21072 … -6.88739 -6.97145; -8.18519 -8.26623 … -6.08695 -6.5388; … ; -7.36371 -7.46154 … -7.28993 -6.62028; -8.4712 -8.38667 … -6.87565 -7.1915] & $\\dots$ \\\\\n",
       "\t14 & [-12.1028 -10.6834 … -10.6194 -9.77503; -9.5327 -8.71072 … -10.3775 -11.2526; … ; -10.2734 -8.6481 … -11.89 -11.2868; -10.695 -9.5367 … -10.0589 -11.5081] & $\\dots$ \\\\\n",
       "\t15 & [-7.38992 -8.35793 … -6.84183 -7.1792; -7.94391 -7.79983 … -8.03655 -9.81247; … ; -8.38616 -6.57114 … -8.84171 -8.66087; -6.76931 -7.66222 … -8.88979 -10.5719] & $\\dots$ \\\\\n",
       "\t16 & [-7.46962 -8.21072 … -6.88739 -6.97145; -8.18519 -8.26623 … -6.08695 -6.5388; … ; -7.36371 -7.46154 … -7.28993 -6.62028; -8.4712 -8.38667 … -6.87565 -7.1915] & $\\dots$ \\\\\n",
       "\t17 & [-12.1028 -10.6834 … -10.6194 -9.77503; -9.5327 -8.71072 … -10.3775 -11.2526; … ; -10.2734 -8.6481 … -11.89 -11.2868; -10.695 -9.5367 … -10.0589 -11.5081] & $\\dots$ \\\\\n",
       "\t18 & [-7.38992 -8.35793 … -6.84183 -7.1792; -7.94391 -7.79983 … -8.03655 -9.81247; … ; -8.38616 -6.57114 … -8.84171 -8.66087; -6.76931 -7.66222 … -8.88979 -10.5719] & $\\dots$ \\\\\n",
       "\t19 & [-7.46962 -8.21072 … -6.88739 -6.97145; -8.18519 -8.26623 … -6.08695 -6.5388; … ; -7.36371 -7.46154 … -7.28993 -6.62028; -8.4712 -8.38667 … -6.87565 -7.1915] & $\\dots$ \\\\\n",
       "\t20 & [-12.1028 -10.6834 … -10.6194 -9.77503; -9.5327 -8.71072 … -10.3775 -11.2526; … ; -10.2734 -8.6481 … -11.89 -11.2868; -10.695 -9.5367 … -10.0589 -11.5081] & $\\dots$ \\\\\n",
       "\t21 & [-7.38992 -8.35793 … -6.84183 -7.1792; -7.94391 -7.79983 … -8.03655 -9.81247; … ; -8.38616 -6.57114 … -8.84171 -8.66087; -6.76931 -7.66222 … -8.88979 -10.5719] & $\\dots$ \\\\\n",
       "\t22 & [-7.46962 -8.21072 … -6.88739 -6.97145; -8.18519 -8.26623 … -6.08695 -6.5388; … ; -7.36371 -7.46154 … -7.28993 -6.62028; -8.4712 -8.38667 … -6.87565 -7.1915] & $\\dots$ \\\\\n",
       "\t23 & [-12.1028 -10.6834 … -10.6194 -9.77503; -9.5327 -8.71072 … -10.3775 -11.2526; … ; -10.2734 -8.6481 … -11.89 -11.2868; -10.695 -9.5367 … -10.0589 -11.5081] & $\\dots$ \\\\\n",
       "\t24 & [-7.38992 -8.35793 … -6.84183 -7.1792; -7.94391 -7.79983 … -8.03655 -9.81247; … ; -8.38616 -6.57114 … -8.84171 -8.66087; -6.76931 -7.66222 … -8.88979 -10.5719] & $\\dots$ \\\\\n",
       "\t$\\dots$ & $\\dots$ &  \\\\\n",
       "\\end{tabular}\n"
      ],
      "text/plain": [
       "\u001b[1m48×4 DataFrame\u001b[0m\n",
       "\u001b[1m Row \u001b[0m│\u001b[1m truesignal                        \u001b[0m\u001b[1m numfrequencies \u001b[0m\u001b[1m recoveryalg     \u001b[0m\u001b[1m sam\u001b[0m ⋯\n",
       "     │\u001b[90m Array…                            \u001b[0m\u001b[90m Int64          \u001b[0m\u001b[90m Symbol          \u001b[0m\u001b[90m Mat\u001b[0m ⋯\n",
       "─────┼──────────────────────────────────────────────────────────────────────────\n",
       "   1 │ Float32[-7.46962 -8.21072 … -6.8…               8  recoversignal    Boo ⋯\n",
       "   2 │ Float32[-12.1028 -10.6834 … -10.…               8  recoversignal    Boo\n",
       "   3 │ Float32[-7.38992 -8.35793 … -6.8…               8  recoversignal    Boo\n",
       "   4 │ Float32[-7.46962 -8.21072 … -6.8…              10  recoversignal    Boo\n",
       "   5 │ Float32[-12.1028 -10.6834 … -10.…              10  recoversignal    Boo ⋯\n",
       "   6 │ Float32[-7.38992 -8.35793 … -6.8…              10  recoversignal    Boo\n",
       "   7 │ Float32[-7.46962 -8.21072 … -6.8…              16  recoversignal    Boo\n",
       "   8 │ Float32[-12.1028 -10.6834 … -10.…              16  recoversignal    Boo\n",
       "  ⋮  │                 ⋮                        ⋮                ⋮             ⋱\n",
       "  42 │ Float32[-7.38992 -8.35793 … -6.8…              64  relaxed_recover  Boo ⋯\n",
       "  43 │ Float32[-7.46962 -8.21072 … -6.8…             128  relaxed_recover  Boo\n",
       "  44 │ Float32[-12.1028 -10.6834 … -10.…             128  relaxed_recover  Boo\n",
       "  45 │ Float32[-7.38992 -8.35793 … -6.8…             128  relaxed_recover  Boo\n",
       "  46 │ Float32[-7.46962 -8.21072 … -6.8…             784  relaxed_recover  Boo ⋯\n",
       "  47 │ Float32[-12.1028 -10.6834 … -10.…             784  relaxed_recover  Boo\n",
       "  48 │ Float32[-7.38992 -8.35793 … -6.8…             784  relaxed_recover  Boo\n",
       "\u001b[36m                                                    1 column and 33 rows omitted\u001b[0m"
      ]
     },
     "metadata": {},
     "output_type": "display_data"
    }
   ],
   "source": [
    "\n",
    "# not well adapted to the in range case with many models; for that we need a notion of dependence when running experiments. Probably a callback.\n",
    "pdct = plan_dct(truesignals[1])\n",
    "recoveryalgs = [:recoversignal, :relaxed_recover]\n",
    "recoverydict = Dict(:recoversignal => recoversignal, :relaxed_recover => relaxed_recover)\n",
    "frame = allcombinations(DataFrame, (:truesignal => truesignals), (:numfrequencies => aimed_ms), (:recoveryalg => recoveryalgs))\n",
    "transform!(frame, [:numfrequencies] => ByRow((m) -> samplefrequenciesuniformly(m, img_size)) => :sampledfrequencies)\n"
   ]
  },
  {
   "cell_type": "code",
   "execution_count": 21,
   "metadata": {},
   "outputs": [
    {
     "data": {
      "text/plain": [
       "experimentgetrelative_error (generic function with 1 method)"
      ]
     },
     "metadata": {},
     "output_type": "display_data"
    }
   ],
   "source": [
    "\n",
    "function experimentgetrelative_error(truesignal, frequency, model, pdct, recoveryfn; multithread=true, kwargs...)\n",
    "    #if multithread\n",
    "    #     pdct = deepcopy(pdct)\n",
    "    # end\n",
    "    pdct = deepcopy(pdct)\n",
    "    A = IndexedMatrix(pdct, frequency)\n",
    "    measurements = A * truesignal\n",
    "    recoveryimg = recoveryfn(measurements, A, model; kwargs...)\n",
    "    relativeerr = norm(recoveryimg .- truesignal) / norm(truesignal)\n",
    "    Dict(:relerr => relativeerr)\n",
    "end"
   ]
  },
  {
   "cell_type": "code",
   "execution_count": 25,
   "metadata": {},
   "outputs": [
    {
     "data": {
      "text/plain": [
       "(max_iter = 10,)"
      ]
     },
     "metadata": {},
     "output_type": "display_data"
    }
   ],
   "source": [
    "kwargs = (;max_iter = 10)\n"
   ]
  },
  {
   "cell_type": "code",
   "execution_count": 26,
   "metadata": {},
   "outputs": [
    {
     "name": "stderr",
     "output_type": "stream",
     "text": [
      "┌ Warning: Max num. iterations reached\n",
      "└ @ GenerativeRecoveries /Users/matthewscott/Prog/GenerativeRecoveries/src/recoveryalgorithms.jl:20\n",
      "┌ Warning: Max num. iterations reached\n",
      "└ @ GenerativeRecoveries /Users/matthewscott/Prog/GenerativeRecoveries/src/recoveryalgorithms.jl:20\n"
     ]
    },
    {
     "name": "stderr",
     "output_type": "stream",
     "text": [
      "┌ Warning: Max num. iterations reached\n",
      "└ @ GenerativeRecoveries /Users/matthewscott/Prog/GenerativeRecoveries/src/recoveryalgorithms.jl:20\n",
      "┌ Warning: Max num. iterations reached\n",
      "└ @ GenerativeRecoveries /Users/matthewscott/Prog/GenerativeRecoveries/src/recoveryalgorithms.jl:20\n",
      "┌ Warning: Max num. iterations reached\n",
      "└ @ GenerativeRecoveries /Users/matthewscott/Prog/GenerativeRecoveries/src/recoveryalgorithms.jl:20\n",
      "┌ Warning: Max num. iterations reached\n",
      "└ @ GenerativeRecoveries /Users/matthewscott/Prog/GenerativeRecoveries/src/recoveryalgorithms.jl:20\n",
      "┌ Warning: Max num. iterations reached\n",
      "└ @ GenerativeRecoveries /Users/matthewscott/Prog/GenerativeRecoveries/src/recoveryalgorithms.jl:20\n",
      "┌ Warning: Max num. iterations reached\n",
      "└ @ GenerativeRecoveries /Users/matthewscott/Prog/GenerativeRecoveries/src/recoveryalgorithms.jl:20\n",
      "┌ Warning: Max num. iterations reached\n",
      "└ @ GenerativeRecoveries /Users/matthewscott/Prog/GenerativeRecoveries/src/recoveryalgorithms.jl:20\n",
      "┌ Warning: Max num. iterations reached\n",
      "└ @ GenerativeRecoveries /Users/matthewscott/Prog/GenerativeRecoveries/src/recoveryalgorithms.jl:20\n",
      "┌ Warning: Max num. iterations reached\n",
      "└ @ GenerativeRecoveries /Users/matthewscott/Prog/GenerativeRecoveries/src/recoveryalgorithms.jl:20\n",
      "┌ Warning: Max num. iterations reached\n",
      "└ @ GenerativeRecoveries /Users/matthewscott/Prog/GenerativeRecoveries/src/recoveryalgorithms.jl:20\n",
      "┌ Warning: Max num. iterations reached\n",
      "└ @ GenerativeRecoveries /Users/matthewscott/Prog/GenerativeRecoveries/src/recoveryalgorithms.jl:20\n",
      "┌ Warning: Max num. iterations reached\n",
      "└ @ GenerativeRecoveries /Users/matthewscott/Prog/GenerativeRecoveries/src/recoveryalgorithms.jl:20\n",
      "┌ Warning: Max num. iterations reached\n",
      "└ @ GenerativeRecoveries /Users/matthewscott/Prog/GenerativeRecoveries/src/recoveryalgorithms.jl:20\n",
      "┌ Warning: Max num. iterations reached\n",
      "└ @ GenerativeRecoveries /Users/matthewscott/Prog/GenerativeRecoveries/src/recoveryalgorithms.jl:20\n"
     ]
    },
    {
     "name": "stderr",
     "output_type": "stream",
     "text": [
      "┌ Warning: Max num. iterations reached\n",
      "└ @ GenerativeRecoveries /Users/matthewscott/Prog/GenerativeRecoveries/src/recoveryalgorithms.jl:20\n",
      "┌ Warning: Max num. iterations reached\n",
      "└ @ GenerativeRecoveries /Users/matthewscott/Prog/GenerativeRecoveries/src/recoveryalgorithms.jl:20\n",
      "┌ Warning: Max num. iterations reached\n",
      "└ @ GenerativeRecoveries /Users/matthewscott/Prog/GenerativeRecoveries/src/recoveryalgorithms.jl:20\n",
      "┌ Warning: Max num. iterations reached\n",
      "└ @ GenerativeRecoveries /Users/matthewscott/Prog/GenerativeRecoveries/src/recoveryalgorithms.jl:20\n",
      "┌ Warning: Max num. iterations reached\n",
      "└ @ GenerativeRecoveries /Users/matthewscott/Prog/GenerativeRecoveries/src/recoveryalgorithms.jl:20\n",
      "┌ Warning: Max num. iterations reached\n",
      "└ @ GenerativeRecoveries /Users/matthewscott/Prog/GenerativeRecoveries/src/recoveryalgorithms.jl:20\n",
      "┌ Warning: Max num. iterations reached\n",
      "└ @ GenerativeRecoveries /Users/matthewscott/Prog/GenerativeRecoveries/src/recoveryalgorithms.jl:20\n",
      "┌ Warning: Max num. iterations reached\n",
      "└ @ GenerativeRecoveries /Users/matthewscott/Prog/GenerativeRecoveries/src/recoveryalgorithms.jl:20\n"
     ]
    },
    {
     "ename": "UndefVarError",
     "evalue": "UndefVarError: indexof not defined",
     "output_type": "error",
     "traceback": [
      "UndefVarError: indexof not defined\n",
      "\n",
      "Stacktrace:\n",
      "  [1] experimentgetrelative_error(truesignal::Matrix{Float32}, frequency::Matrix{Bool}, model::Chain{Tuple{Dense{typeof(relu), Matrix{Float32}, Bool}, Dense{typeof(relu), Matrix{Float32}, Bool}, Dense{typeof(identity), Matrix{Float32}, Bool}, GenerativeRecoveries.var\"#117#118\"}}, pdct::FFTW.DCTPlan{Float32, 5, false}, recoveryfn::typeof(relaxed_recover); multithread::Bool, kwargs::Base.Pairs{Symbol, Int64, Tuple{Symbol}, NamedTuple{(:max_iter,), Tuple{Int64}}})\n",
      "    @ Main ~/Prog/GenerativeRecoveries/experiments/comparerecoveryalg.ipynb:9\n",
      "  [2] (::var\"#24#25\")(truesignal::Matrix{Float32}, frequency::Matrix{Bool}, recoveryalg::Symbol)\n",
      "    @ Main ~/Prog/GenerativeRecoveries/experiments/comparerecoveryalg.ipynb:2\n",
      "  [3] #4\n",
      "    @ ./generator.jl:36 [inlined]\n",
      "  [4] iterate\n",
      "    @ ./generator.jl:47 [inlined]\n",
      "  [5] collect_to!(dest::Vector{Dict{Symbol, Float32}}, itr::Base.Generator{Base.Iterators.Zip{Tuple{Vector{Matrix{Float32}}, Vector{Matrix{Bool}}, Vector{Symbol}}}, Base.var\"#4#5\"{var\"#24#25\"}}, offs::Int64, st::Tuple{Int64, Int64, Int64})\n",
      "    @ Base ./array.jl:845\n",
      "  [6] collect_to_with_first!(dest::Vector{Dict{Symbol, Float32}}, v1::Dict{Symbol, Float32}, itr::Base.Generator{Base.Iterators.Zip{Tuple{Vector{Matrix{Float32}}, Vector{Matrix{Bool}}, Vector{Symbol}}}, Base.var\"#4#5\"{var\"#24#25\"}}, st::Tuple{Int64, Int64, Int64})\n",
      "    @ Base ./array.jl:823\n",
      "  [7] collect(itr::Base.Generator{Base.Iterators.Zip{Tuple{Vector{Matrix{Float32}}, Vector{Matrix{Bool}}, Vector{Symbol}}}, Base.var\"#4#5\"{var\"#24#25\"}})\n",
      "    @ Base ./array.jl:797\n",
      "  [8] map(::Function, ::Vector{Matrix{Float32}}, ::Vararg{Any})\n",
      "    @ Base ./abstractarray.jl:3055\n",
      "  [9] (::ByRow{var\"#24#25\"})(::Vector{Matrix{Float32}}, ::Vararg{AbstractVector})\n",
      "    @ Tables ~/.julia/packages/Tables/T7rHm/src/utils.jl:229\n",
      " [10] _transformation_helper(df::DataFrame, col_idx::Vector{Int64}, ::Base.RefValue{Any})\n",
      "    @ DataFrames ~/.julia/packages/DataFrames/dgZn3/src/abstractdataframe/selection.jl:604\n",
      " [11] select_transform!(::Base.RefValue{Any}, df::DataFrame, newdf::DataFrame, transformed_cols::Set{Symbol}, copycols::Bool, allow_resizing_newdf::Base.RefValue{Bool}, column_to_copy::BitVector)\n",
      "    @ DataFrames ~/.julia/packages/DataFrames/dgZn3/src/abstractdataframe/selection.jl:793\n",
      " [12] _manipulate(df::DataFrame, normalized_cs::Vector{Any}, copycols::Bool, keeprows::Bool)\n",
      "    @ DataFrames ~/.julia/packages/DataFrames/dgZn3/src/abstractdataframe/selection.jl:1764\n",
      " [13] manipulate(::DataFrame, ::Any, ::Vararg{Any}; copycols::Bool, keeprows::Bool, renamecols::Bool)\n",
      "    @ DataFrames ~/.julia/packages/DataFrames/dgZn3/src/abstractdataframe/selection.jl:1684\n",
      " [14] select(::DataFrame, ::Any, ::Vararg{Any}; copycols::Bool, renamecols::Bool, threads::Bool)\n",
      "    @ DataFrames ~/.julia/packages/DataFrames/dgZn3/src/abstractdataframe/selection.jl:1285\n",
      " [15] #select!#541\n",
      "    @ ~/.julia/packages/DataFrames/dgZn3/src/abstractdataframe/selection.jl:932 [inlined]\n",
      " [16] #transform!#544\n",
      "    @ ~/.julia/packages/DataFrames/dgZn3/src/abstractdataframe/selection.jl:982 [inlined]\n",
      " [17] transform!(df::DataFrame, args::Any)\n",
      "    @ DataFrames ~/.julia/packages/DataFrames/dgZn3/src/abstractdataframe/selection.jl:982\n",
      " [18] top-level scope\n",
      "    @ ~/Prog/GenerativeRecoveries/experiments/comparerecoveryalg.ipynb:2"
     ]
    }
   ],
   "source": [
    "\n",
    "transform!(frame, [:truesignal, :sampledfrequencies, :recoveryalg] => ByRow((truesignal, frequency, recoveryalg) -> experimentgetrelative_error(truesignal, frequency, decoder, pdct, recoverydict[recoveryalg]; kwargs...)) => AsTable)"
   ]
  },
  {
   "cell_type": "code",
   "execution_count": null,
   "metadata": {},
   "outputs": [],
   "source": [
    "frame = combine(groupby(frame, [:numfrequencies, :recoveryalg]), :relerr, :algname, :relerr => mean => :meanrelerr, :relerr => std => :std_deviation, :relerr => (x -> 10^(mean(log10.(x)) - std(log10.(x)))) => :botuncert, :relerr => (x -> 10^(mean(log10.(x)) + std(log10.(x)))) => :topuncert)"
   ]
  },
  {
   "cell_type": "code",
   "execution_count": null,
   "metadata": {},
   "outputs": [],
   "source": []
  }
 ],
 "metadata": {
  "kernelspec": {
   "display_name": "Julia 1.8.3",
   "language": "julia",
   "name": "julia-1.8"
  },
  "language_info": {
   "file_extension": ".jl",
   "mimetype": "application/julia",
   "name": "julia",
   "version": "1.8.3"
  },
  "orig_nbformat": 4,
  "vscode": {
   "interpreter": {
    "hash": "b0fa6594d8f4cbf19f97940f81e996739fb7646882a419484c72d19e05852a7e"
   }
  }
 },
 "nbformat": 4,
 "nbformat_minor": 2
}
